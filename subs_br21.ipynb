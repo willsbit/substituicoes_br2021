{
 "cells": [
  {
   "cell_type": "code",
   "execution_count": 25,
   "id": "7b5e79ce-bb84-48e4-a380-a3a95cb3046a",
   "metadata": {},
   "outputs": [],
   "source": [
    "import soup\n",
    "import pandas as pd"
   ]
  },
  {
   "cell_type": "code",
   "execution_count": 26,
   "id": "383a1e0b-c79b-462b-9b5b-99ecadd99141",
   "metadata": {},
   "outputs": [],
   "source": [
    "time_casa, tecnico_casa, gols_casa, onze_casa, banco_casa, subs_dict_casa = soup.time_casa, soup.tecnico_casa, soup.gols_casa, soup.onze_casa, soup.banco_casa, soup.subs_dict_casa"
   ]
  },
  {
   "cell_type": "code",
   "execution_count": 27,
   "id": "a3a0c913-67b6-4a77-a07e-65a118d4ac83",
   "metadata": {},
   "outputs": [],
   "source": [
    "time_fora, tecnico_fora, gols_fora, onze_fora, banco_fora, subs_dict_fora = soup.time_fora, soup.tecnico_fora, soup.gols_fora, soup.onze_fora, soup.banco_fora, soup.subs_dict_fora\n",
    "\n",
    "sub1_casa, sub2_casa, sub3_casa, sub4_casa, sub5_casa, sub1_casa_tempo, sub2_casa_tempo, sub3_casa_tempo, sub4_casa_tempo, sub5_casa_tempo = soup.sub1_casa, soup.sub2_casa, soup.sub3_casa, soup.sub4_casa, soup.sub5_casa, soup.sub1_casa_tempo, soup.sub2_casa_tempo, soup.sub3_casa_tempo, soup.sub4_casa_tempo, soup.sub5_casa_tempo\n",
    "\n",
    "sub1_fora, sub2_fora, sub3_fora, sub4_fora, sub5_fora, sub1_fora_tempo, sub2_fora_tempo, sub3_fora_tempo, sub4_fora_tempo, sub5_fora_tempo = soup.sub1_fora, soup.sub2_fora, soup.sub3_fora, soup.sub4_fora, soup.sub5_fora, soup.sub1_fora_tempo, soup.sub2_fora_tempo, soup.sub3_fora_tempo, soup.sub4_fora_tempo, soup.sub5_fora_tempo\n"
   ]
  },
  {
   "cell_type": "code",
   "execution_count": 32,
   "id": "e1cc1e4a-b013-4947-84f9-7353b4fe99bf",
   "metadata": {
    "tags": []
   },
   "outputs": [
    {
     "data": {
      "text/html": [
       "<div>\n",
       "<style scoped>\n",
       "    .dataframe tbody tr th:only-of-type {\n",
       "        vertical-align: middle;\n",
       "    }\n",
       "\n",
       "    .dataframe tbody tr th {\n",
       "        vertical-align: top;\n",
       "    }\n",
       "\n",
       "    .dataframe thead th {\n",
       "        text-align: right;\n",
       "    }\n",
       "</style>\n",
       "<table border=\"1\" class=\"dataframe\">\n",
       "  <thead>\n",
       "    <tr style=\"text-align: right;\">\n",
       "      <th></th>\n",
       "      <th>time_casa</th>\n",
       "      <th>tecnico_casa</th>\n",
       "      <th>time_fora</th>\n",
       "      <th>tecnico_fora</th>\n",
       "      <th>gols_casa</th>\n",
       "      <th>gols_fora</th>\n",
       "      <th>11_casa</th>\n",
       "      <th>11_fora</th>\n",
       "      <th>banco_casa</th>\n",
       "      <th>banco_fora</th>\n",
       "      <th>...</th>\n",
       "      <th>20</th>\n",
       "      <th>21</th>\n",
       "      <th>22</th>\n",
       "      <th>23</th>\n",
       "      <th>24</th>\n",
       "      <th>25</th>\n",
       "      <th>26</th>\n",
       "      <th>27</th>\n",
       "      <th>28</th>\n",
       "      <th>29</th>\n",
       "    </tr>\n",
       "  </thead>\n",
       "  <tbody>\n",
       "    <tr>\n",
       "      <th>0</th>\n",
       "      <td>(Cuiabá)</td>\n",
       "      <td>(Alberto Valentim)</td>\n",
       "      <td>(Juventude)</td>\n",
       "      <td>(Marquinhos Santos)</td>\n",
       "      <td>(2)</td>\n",
       "      <td>(2)</td>\n",
       "      <td>([Walter, Lucas Ramon, Marllon Borges, Anderso...</td>\n",
       "      <td>([Marcelo Carné, Michel, Vitor Mendes, Rafael ...</td>\n",
       "      <td>([João Carlos, João Lucas, Paulão, José Walber...</td>\n",
       "      <td>([William, Cleberson, Paulo Henrique, Elton, M...</td>\n",
       "      <td>...</td>\n",
       "      <td>{}</td>\n",
       "      <td>[]</td>\n",
       "      <td>[]</td>\n",
       "      <td>[]</td>\n",
       "      <td>[]</td>\n",
       "      <td>75</td>\n",
       "      <td>75</td>\n",
       "      <td>88</td>\n",
       "      <td>89</td>\n",
       "      <td>89</td>\n",
       "    </tr>\n",
       "  </tbody>\n",
       "</table>\n",
       "<p>1 rows × 30 columns</p>\n",
       "</div>"
      ],
      "text/plain": [
       "  time_casa        tecnico_casa    time_fora         tecnico_fora gols_casa  \\\n",
       "0  (Cuiabá)  (Alberto Valentim)  (Juventude)  (Marquinhos Santos)       (2)   \n",
       "\n",
       "  gols_fora                                            11_casa  \\\n",
       "0       (2)  ([Walter, Lucas Ramon, Marllon Borges, Anderso...   \n",
       "\n",
       "                                             11_fora  \\\n",
       "0  ([Marcelo Carné, Michel, Vitor Mendes, Rafael ...   \n",
       "\n",
       "                                          banco_casa  \\\n",
       "0  ([João Carlos, João Lucas, Paulão, José Walber...   \n",
       "\n",
       "                                          banco_fora  ...  20  21  22  23  24  \\\n",
       "0  ([William, Cleberson, Paulo Henrique, Elton, M...  ...  {}  []  []  []  []   \n",
       "\n",
       "   25  26  27  28  29  \n",
       "0  75  75  88  89  89  \n",
       "\n",
       "[1 rows x 30 columns]"
      ]
     },
     "execution_count": 32,
     "metadata": {},
     "output_type": "execute_result"
    }
   ],
   "source": [
    "categories = ['jogo']\n",
    "dcts = [time_casa, tecnico_casa, time_fora, tecnico_fora, gols_casa, gols_fora, onze_casa, onze_fora, banco_casa, banco_fora, sub1_casa, sub2_casa, sub3_casa, sub4_casa, sub5_casa, sub1_casa_tempo, sub2_casa_tempo, sub3_casa_tempo, sub4_casa_tempo, sub5_casa_tempo, sub1_fora, sub2_fora, sub3_fora, sub4_fora, sub5_fora, sub1_fora_tempo, sub2_fora_tempo, sub3_fora_tempo, sub4_fora_tempo, sub5_fora_tempo]\n",
    "\n",
    "dfs = [\n",
    "    pd.DataFrame([[time_casa.values(), tecnico_casa.values(), time_fora.values(), tecnico_fora.values(), gols_casa.values(), gols_fora.values(), \n",
    "                   onze_casa.values(), onze_fora.values(), banco_casa.values(), banco_fora.values(),\n",
    "                  sub1_casa, sub2_casa, sub3_casa, sub4_casa, sub5_casa, sub1_casa_tempo, sub2_casa_tempo, \n",
    "                   sub3_casa_tempo, sub4_casa_tempo, sub5_casa_tempo, sub1_fora, sub2_fora, sub3_fora, \n",
    "                   sub4_fora, sub5_fora, sub1_fora_tempo, sub2_fora_tempo, sub3_fora_tempo, sub4_fora_tempo, sub5_fora_tempo] for v in dcts.values()])\n",
    "    for dcts, v in zip(dcts, categories)\n",
    "]\n",
    "\n",
    "cols = {'columns': {0: 'time_casa', 1: 'tecnico_casa', 2: 'time_fora', 3: 'tecnico_fora', 4: 'gols_casa', 5: 'gols_fora', \n",
    "                    6: '11_casa', 7: '11_fora', 8: 'banco_casa', 9: 'banco_fora', 10: 'sub1_casa'}}\n",
    "pd.concat(dfs).reset_index(drop=True).rename(**cols)\n"
   ]
  },
  {
   "cell_type": "code",
   "execution_count": null,
   "id": "50f74586-9467-4bd3-a014-013c6423dc9d",
   "metadata": {},
   "outputs": [],
   "source": []
  }
 ],
 "metadata": {
  "kernelspec": {
   "display_name": "Python 3",
   "language": "python",
   "name": "python3"
  },
  "language_info": {
   "codemirror_mode": {
    "name": "ipython",
    "version": 3
   },
   "file_extension": ".py",
   "mimetype": "text/x-python",
   "name": "python",
   "nbconvert_exporter": "python",
   "pygments_lexer": "ipython3",
   "version": "3.8.8"
  },
  "toc-autonumbering": false,
  "toc-showcode": false,
  "toc-showmarkdowntxt": false
 },
 "nbformat": 4,
 "nbformat_minor": 5
}
