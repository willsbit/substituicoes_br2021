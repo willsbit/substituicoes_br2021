{
 "cells": [
  {
   "cell_type": "code",
   "execution_count": 1,
   "id": "7b5e79ce-bb84-48e4-a380-a3a95cb3046a",
   "metadata": {},
   "outputs": [
    {
     "name": "stderr",
     "output_type": "stream",
     "text": [
      "C:\\Users\\willi\\anaconda3\\lib\\site-packages\\soupsieve\\css_parser.py:813: FutureWarning: The pseudo class ':contains' is deprecated, ':-soup-contains' should be used moving forward.\n",
      "  warnings.warn(\n"
     ]
    }
   ],
   "source": [
    "import soup\n",
    "import pandas as pd\n",
    "\n",
    "dfs_final = soup.dfs_final"
   ]
  },
  {
   "cell_type": "code",
   "execution_count": 12,
   "id": "f091fa68-f8aa-4952-94de-f907c9e159df",
   "metadata": {
    "tags": []
   },
   "outputs": [],
   "source": [
    "# pré-processamento do dataframe\n",
    "\n",
    "cols = soup.cols\n",
    "brdf = dfs_final.reset_index(drop=True).rename(**cols)\n",
    "\n",
    "brdf.loc[:, 'time_casa':'tecnico_fora'] = brdf.loc[:, 'time_casa':'tecnico_fora'].astype('str').replace(['dict_values\\(\\[\\'', \"\\']\\)\", \"\\(\\)\",], '', regex=True)\n",
    "\n",
    "brdf.loc[:, 'gols_casa':'gols_fora'] = brdf.loc[:, 'gols_casa':'gols_fora'].astype('str').replace(['dict_values\\(\\[\\'', \"\\']\\)\", \"\\(\\)\"], '', regex=True).astype('int')\n",
    "\n",
    "brdf.loc[:, '11_casa':'sub1_casa'] = brdf.loc[:, '11_casa':'sub1_casa'].astype('str').replace(['dict_values\\(\\[\\\\[\\'', \"\\']\\]\\)\", \"\\(\\)\", \"\\'\"], '', regex=True).astype('str')\n",
    "\n",
    "try:\n",
    "    brdf.loc[:, ['sub1_casa_tempo','sub2_casa_tempo', 'sub3_casa_tempo', \n",
    "                 'sub4_casa_tempo', 'sub5_casa_tempo', 'sub1_fora_tempo',\n",
    "                 'sub2_fora_tempo', 'sub3_fora_tempo', 'sub4_fora_tempo', 'sub5_fora_tempo']] = brdf.loc[:, ['sub1_casa_tempo','sub2_casa_tempo', 'sub3_casa_tempo', \n",
    "                 'sub4_casa_tempo', 'sub5_casa_tempo', 'sub1_fora_tempo',\n",
    "                 'sub2_fora_tempo', 'sub3_fora_tempo', 'sub4_fora_tempo', 'sub5_fora_tempo']].astype('str').astype('int')\n",
    "except AttributeError:\n",
    "    None\n",
    "except ValueError:\n",
    "    None\n",
    "    \n",
    "    \n",
    "brdf.loc[:, ['sub1_casa','sub2_casa', 'sub3_casa', 'sub4_casa', 'sub5_casa',\n",
    "             'sub1_fora','sub2_fora', 'sub3_fora', 'sub4_fora', 'sub5_fora']] = brdf.loc[:, ['sub1_casa','sub2_casa', \n",
    "                                                                                             'sub3_casa', 'sub4_casa', 'sub5_casa', \n",
    "                                                                                             'sub1_fora','sub2_fora', 'sub3_fora', \n",
    "                                                                                             'sub4_fora', 'sub5_fora']].astype('str').replace(['dict_values\\(\\[\\(',\n",
    "                                                                                                                                               \"\\)]\\)\", \"\\(\\)\", \"\\'\"], '', regex=True)"
   ]
  },
  {
   "cell_type": "code",
   "execution_count": 13,
   "id": "be7fb09c-06e1-46f1-9523-110c849af028",
   "metadata": {},
   "outputs": [],
   "source": [
    "brdf.loc[brdf.tecnico_casa == 'Marcelo Cabo', 'time_casa'] = 'Atlético Goianiense'\n",
    "brdf.loc[brdf.tecnico_casa == 'Eduardo Barroca', 'time_casa'] = 'Atlético Goianiense'\n",
    "brdf.loc[brdf.tecnico_fora == 'Marcelo Cabo', 'time_fora'] = 'Atlético Goianiense'\n",
    "brdf.loc[brdf.tecnico_fora == 'Eduardo Barroca', 'time_fora'] = 'Atlético Goianiense'\n",
    "brdf.loc[brdf.tecnico_fora == 'Eduardo Souza', 'time_fora'] = 'Atlético Goianiense'\n",
    "\n",
    "brdf.loc[brdf.time_casa == 'Atl', 'time_casa'] = 'Athletico Paranaense'\n",
    "brdf.loc[brdf.time_fora == 'Atl', 'time_fora'] = 'Athletico Paranaense'\n",
    "\n",
    "brdf.loc[(brdf['tecnico_fora'] == 'dummy') & (brdf['time_fora'] == 'Athletico Paranaense'), 'tecnico_fora'] = 'James Freitas'\n",
    "brdf.loc[(brdf['tecnico_fora'] == 'dummy') & (brdf['time_fora'] == 'Juventude'), 'tecnico_fora'] = 'Emerson Ávila'\n",
    "\n",
    "brdf.loc[(brdf['tecnico_fora'] == 'dummy') & (brdf['time_fora'] == 'Juventude'), 'tecnico_fora'] = 'Emerson Ávila'\n",
    "\n",
    "\n",
    "brdf.loc[brdf.tecnico_fora == 'Capitão: Cássio', 'tecnico_fora'] = 'Sylvinho'\n",
    "brdf.loc[brdf.tecnico_fora == 'Thiago Mendes', 'tecnico_fora'] = 'Sylvinho'\n",
    "brdf.loc[brdf.tecnico_casa == 'Thiago Mendes', 'tecnico_casa'] = 'Sylvinho'\n",
    "\n"
   ]
  },
  {
   "cell_type": "code",
   "execution_count": 14,
   "id": "f63dbbe7-9103-497f-96e3-a8779aaab036",
   "metadata": {},
   "outputs": [],
   "source": [
    "sub1_casa = brdf.loc[:, ['time_casa', 'tecnico_casa', 'sub1_casa', 'sub1_casa_tempo']].set_axis(['time', 'tecnico', 'sub', 'tempo'], axis=1)\n",
    "sub2_casa = brdf.loc[:, ['time_casa', 'tecnico_casa', 'sub2_casa', 'sub2_casa_tempo']].set_axis(['time', 'tecnico', 'sub', 'tempo'], axis=1)\n",
    "sub3_casa = brdf.loc[:, ['time_casa', 'tecnico_casa', 'sub3_casa', 'sub3_casa_tempo']].set_axis(['time', 'tecnico', 'sub', 'tempo'], axis=1)\n",
    "sub4_casa = brdf.loc[:, ['time_casa', 'tecnico_casa', 'sub4_casa', 'sub4_casa_tempo']].set_axis(['time', 'tecnico', 'sub', 'tempo'], axis=1)\n",
    "sub5_casa = brdf.loc[:, ['time_casa', 'tecnico_casa', 'sub5_casa', 'sub5_casa_tempo']].set_axis(['time', 'tecnico', 'sub', 'tempo'], axis=1)\n",
    "\n",
    "sub1_fora = brdf.loc[:, ['time_fora', 'tecnico_fora', 'sub1_fora', 'sub1_fora_tempo']].set_axis(['time', 'tecnico', 'sub', 'tempo'], axis=1)\n",
    "sub2_fora = brdf.loc[:, ['time_fora', 'tecnico_fora', 'sub2_fora', 'sub2_fora_tempo']].set_axis(['time', 'tecnico', 'sub', 'tempo'], axis=1)\n",
    "sub3_fora = brdf.loc[:, ['time_fora', 'tecnico_fora', 'sub3_fora', 'sub3_fora_tempo']].set_axis(['time', 'tecnico', 'sub', 'tempo'], axis=1)\n",
    "sub4_fora = brdf.loc[:, ['time_fora', 'tecnico_fora', 'sub4_fora', 'sub4_fora_tempo']].set_axis(['time', 'tecnico', 'sub', 'tempo'], axis=1)\n",
    "sub5_fora = brdf.loc[:, ['time_fora', 'tecnico_fora', 'sub5_fora', 'sub5_fora_tempo']].set_axis(['time', 'tecnico', 'sub', 'tempo'], axis=1)\n"
   ]
  },
  {
   "cell_type": "code",
   "execution_count": 15,
   "id": "760d823b-d762-4b77-a7f3-2f7ee42abe56",
   "metadata": {},
   "outputs": [
    {
     "data": {
      "text/plain": [
       "0                    Lucas Ramon, João Lucas\n",
       "1                Rodriguinho Marinho, Maycon\n",
       "2                     Igor Gomes, Joao Rojas\n",
       "3                    Allan, Federico Zaracho\n",
       "4       João Ricardo Riedi, Vinícius Machado\n",
       "                        ...                 \n",
       "2275              Jonathan Cafu, Lucas Ramon\n",
       "2276                 Fábio Gonçalves, Marlon\n",
       "2277                Juan Santos, Vitor Bueno\n",
       "2278          André Inácio, Thiago Fernandes\n",
       "2279                 Renzo Saravia, Mauricio\n",
       "Name: sub, Length: 2280, dtype: object"
      ]
     },
     "execution_count": 15,
     "metadata": {},
     "output_type": "execute_result"
    }
   ],
   "source": [
    "subs_all = pd.concat([sub1_casa, sub2_casa, sub3_casa, sub4_casa, sub5_casa, sub1_fora], ignore_index=True)\n",
    "\n",
    "subs_all['sub'].replace(['dict_values([])', '[]', r'dict_values([])'], '')\n",
    "# subs_all.loc[subs_all.tecnico_fora == 'dict_values\\(\\[\\]\\)', 'sub'] = ''"
   ]
  },
  {
   "cell_type": "code",
   "execution_count": 16,
   "id": "9bebdd6f-0bd7-4690-b3b8-f8b5385ba334",
   "metadata": {},
   "outputs": [
    {
     "data": {
      "text/plain": [
       "65.82240306366683"
      ]
     },
     "execution_count": 16,
     "metadata": {},
     "output_type": "execute_result"
    }
   ],
   "source": [
    "import statistics\n",
    "\n",
    "tempo_li = subs_all.loc[subs_all['tempo'].astype(str).str.isdigit(), 'tempo'].reset_index(drop=True)\n",
    "statistics.mean(tempo_li)"
   ]
  },
  {
   "cell_type": "code",
   "execution_count": 17,
   "id": "6a7de138-f0c3-4031-9451-becd6f17c11d",
   "metadata": {
    "tags": []
   },
   "outputs": [
    {
     "data": {
      "text/plain": [
       "Text(0, 0.5, 'Contagem')"
      ]
     },
     "execution_count": 17,
     "metadata": {},
     "output_type": "execute_result"
    },
    {
     "data": {
      "image/png": "[encoded data removed]",
      "text/plain": [
       "<Figure size 1800x1200 with 1 Axes>"
      ]
     },
     "metadata": {},
     "output_type": "display_data"
    }
   ],
   "source": [
    "\n",
    "%matplotlib inline\n",
    "\n",
    "import seaborn as sns\n",
    "sns.set(rc={\"figure.dpi\":300, 'savefig.dpi':300})\n",
    "sns.set_context('notebook')\n",
    "sns.set_style(\"ticks\")\n",
    "\n",
    "hist = sns.histplot(data=tempo_li, label=\"tempo\", kde=False)\n",
    "hist.set_xlabel(\"Tempo\", fontsize = 12)\n",
    "hist.set_ylabel(\"Contagem\", fontsize = 12)\n",
    "\n"
   ]
  },
  {
   "cell_type": "code",
   "execution_count": 22,
   "id": "a64ab734-1cc0-438c-a64f-24bb5ea1b36b",
   "metadata": {},
   "outputs": [
    {
     "data": {
      "text/plain": [
       "Jenison, Élton Rodrigues Brandão    13\n",
       "Robson, Wellington Paulista         10\n",
       "Zé Roberto, Lucas Melão Lucão        9\n",
       "Fred, Raúl Bobadilla                 7\n",
       "Gilberto, Hugo Rodallega             7\n",
       "                                    ..\n",
       "Nathan Silva, Réver                  1\n",
       "Denner, Lima                         1\n",
       "Joílson, Kadu                        1\n",
       "William Oliveira, Pedrinho           1\n",
       "André Luis, Brian Montenegro         1\n",
       "Name: sub, Length: 1561, dtype: int64"
      ]
     },
     "execution_count": 22,
     "metadata": {},
     "output_type": "execute_result"
    }
   ],
   "source": [
    "subs_all = subs_all[subs_all['sub'] != r'dict_values([])']\n",
    "\n",
    "subs_all['sub'].value_counts()"
   ]
  },
  {
   "cell_type": "code",
   "execution_count": 26,
   "id": "a8ec13f3-1f57-4671-9918-b5ef6893a572",
   "metadata": {},
   "outputs": [
    {
     "data": {
      "text/plain": [
       "Vitinho               20\n",
       "Robson                20\n",
       "Felipe Azevedo        19\n",
       "Zé Roberto            18\n",
       "Marlon                18\n",
       "                      ..\n",
       "Paolo Guerrero         1\n",
       "José Sabino            1\n",
       "André Inácio           1\n",
       "Jan Carlos Hurtado     1\n",
       "Abel Hernández         1\n",
       "Name: sub_entrou, Length: 469, dtype: int64"
      ]
     },
     "execution_count": 26,
     "metadata": {},
     "output_type": "execute_result"
    }
   ],
   "source": [
    "subs_all['sub_entrou'] = subs_all['sub'].str.split(',').str[0]\n",
    "subs_all['sub_saiu'] = subs_all['sub'].str.split(',').str[1]\n",
    "\n",
    "subs_all['sub_entrou'].value_counts()"
   ]
  },
  {
   "cell_type": "code",
   "execution_count": 24,
   "id": "c92cb038-cf98-4e88-baf4-56fcca9d1287",
   "metadata": {},
   "outputs": [
    {
     "data": {
      "text/plain": [
       "Marquinhos Santos                 20\n",
       "Maurício Barbieri                 19\n",
       "Sylvinho                          19\n",
       "Cuca                              19\n",
       "Juan Pablo Vojvoda                19\n",
       "Abel Ferreira                     19\n",
       "Vágner Mancini                    17\n",
       "Diego Aguirre                     17\n",
       "Guto Ferreira                     16\n",
       "Jorginho                          15\n",
       "Eduardo Barroca                   15\n",
       "Renato Gaúcho                     14\n",
       "Tiago Nunes                       13\n",
       "Hernán Crespo                     13\n",
       "Jair Ventura                      11\n",
       "Marcão                            10\n",
       "António Oliveira                  10\n",
       "Gustavo Florentín                 10\n",
       "Fábio Carille                     10\n",
       "Umberto Lourenço Louzer Filho      9\n",
       "Rogério Ceni                       9\n",
       "Roger Machado                      9\n",
       "Fernando Diniz                     8\n",
       "Luiz Felipe Scolari                7\n",
       "Dado Cavalcanti                    7\n",
       "Pintado                            7\n",
       "Alberto Valentim                   7\n",
       "Felipe Endres                      5\n",
       "Diego Dabove                       4\n",
       "Luiz Fernando Iubel                4\n",
       "Marcelo Cabo                       3\n",
       "Lisca                              2\n",
       "Thiago Gomes Pacheco               2\n",
       "Maurício Ferreira De Souza         2\n",
       "Miguel Ángel Ramírez               1\n",
       "Eduardo Zuma                       1\n",
       "Bruno Lopes                        1\n",
       "Osmar Loss Vieira                  1\n",
       "Emerson Ávila                      1\n",
       "Cauan                              1\n",
       "James Freitas                      1\n",
       "Eduardo Souza                      1\n",
       "Paulo Autuori                      1\n",
       "Name: tecnico_fora, dtype: int64"
      ]
     },
     "execution_count": 24,
     "metadata": {},
     "output_type": "execute_result"
    }
   ],
   "source": [
    "brdf['tecnico_fora'].value_counts()\n",
    "\n",
    "# brdf.loc[brdf['tecnico_fora'] == 'Capitão: Cássio']\n"
   ]
  },
  {
   "cell_type": "code",
   "execution_count": 21,
   "id": "364c012c-a9ca-4761-9afd-fd98a5fcb2c7",
   "metadata": {},
   "outputs": [],
   "source": [
    "import numpy as np\n",
    "subs_tec = subs_all.groupby('tecnico').apply(lambda df: df.tempo.astype(str).iloc[:])\n",
    "\n",
    "subs_tec.to_csv('subs_tec.csv')"
   ]
  },
  {
   "cell_type": "code",
   "execution_count": null,
   "id": "cc0a874b-050d-45a7-9504-d5b8901a3893",
   "metadata": {},
   "outputs": [],
   "source": []
  }
 ],
 "metadata": {
  "kernelspec": {
   "display_name": "Python 3",
   "language": "python",
   "name": "python3"
  },
  "language_info": {
   "codemirror_mode": {
    "name": "ipython",
    "version": 3
   },
   "file_extension": ".py",
   "mimetype": "text/x-python",
   "name": "python",
   "nbconvert_exporter": "python",
   "pygments_lexer": "ipython3",
   "version": "3.8.8"
  },
  "toc-autonumbering": false,
  "toc-showcode": false,
  "toc-showmarkdowntxt": false
 },
 "nbformat": 4,
 "nbformat_minor": 5
}
