{
 "cells": [
  {
   "cell_type": "code",
   "execution_count": 58,
   "id": "7b5e79ce-bb84-48e4-a380-a3a95cb3046a",
   "metadata": {},
   "outputs": [],
   "source": [
    "import PycharmProjects.substituicoes_br2021.soup as soup\n",
    "import pandas as pd"
   ]
  },
  {
   "cell_type": "code",
   "execution_count": 59,
   "id": "383a1e0b-c79b-462b-9b5b-99ecadd99141",
   "metadata": {},
   "outputs": [],
   "source": [
    "time_casa, tecnico_casa, gols_casa, onze_casa, banco_casa, subs_dict_casa = soup.time_casa, soup.tecnico_casa, soup.gols_casa, soup.onze_casa, soup.banco_casa, soup.subs_dict_casa"
   ]
  },
  {
   "cell_type": "code",
   "execution_count": 60,
   "id": "a3a0c913-67b6-4a77-a07e-65a118d4ac83",
   "metadata": {},
   "outputs": [],
   "source": [
    "time_fora, tecnico_fora, gols_fora, onze_fora, banco_fora, subs_dict_fora = soup.time_fora, soup.tecnico_fora, soup.gols_fora, soup.onze_fora, soup.banco_fora, soup.subs_dict_fora"
   ]
  },
  {
   "cell_type": "code",
   "execution_count": 62,
   "id": "e1cc1e4a-b013-4947-84f9-7353b4fe99bf",
   "metadata": {},
   "outputs": [
    {
     "data": {
      "text/html": [
       "<div>\n",
       "<style scoped>\n",
       "    .dataframe tbody tr th:only-of-type {\n",
       "        vertical-align: middle;\n",
       "    }\n",
       "\n",
       "    .dataframe tbody tr th {\n",
       "        vertical-align: top;\n",
       "    }\n",
       "\n",
       "    .dataframe thead th {\n",
       "        text-align: right;\n",
       "    }\n",
       "</style>\n",
       "<table border=\"1\" class=\"dataframe\">\n",
       "  <thead>\n",
       "    <tr style=\"text-align: right;\">\n",
       "      <th></th>\n",
       "      <th>time_casa</th>\n",
       "      <th>tecnico_casa</th>\n",
       "      <th>time_fora</th>\n",
       "      <th>tecnico_fora</th>\n",
       "      <th>gols_casa</th>\n",
       "      <th>gols_fora</th>\n",
       "      <th>11_casa</th>\n",
       "      <th>11_fora</th>\n",
       "      <th>banco_casa</th>\n",
       "      <th>banco_fora</th>\n",
       "    </tr>\n",
       "  </thead>\n",
       "  <tbody>\n",
       "    <tr>\n",
       "      <th>0</th>\n",
       "      <td>(Cuiabá)</td>\n",
       "      <td>(Técnico: Alberto Valentim)</td>\n",
       "      <td>(Juventude)</td>\n",
       "      <td>(Técnico: Marquinhos Santos)</td>\n",
       "      <td>(2)</td>\n",
       "      <td>(2)</td>\n",
       "      <td>([Walter, Lucas Ramon, Marllon Borges, Anderso...</td>\n",
       "      <td>([Marcelo Carné, Michel, Vitor Mendes, Rafael ...</td>\n",
       "      <td>([João Carlos, João Lucas, Paulão, José Walber...</td>\n",
       "      <td>([William, Cleberson, Paulo Henrique, Elton, M...</td>\n",
       "    </tr>\n",
       "  </tbody>\n",
       "</table>\n",
       "</div>"
      ],
      "text/plain": [
       "  time_casa                 tecnico_casa    time_fora  \\\n",
       "0  (Cuiabá)  (Técnico: Alberto Valentim)  (Juventude)   \n",
       "\n",
       "                   tecnico_fora gols_casa gols_fora  \\\n",
       "0  (Técnico: Marquinhos Santos)       (2)       (2)   \n",
       "\n",
       "                                             11_casa  \\\n",
       "0  ([Walter, Lucas Ramon, Marllon Borges, Anderso...   \n",
       "\n",
       "                                             11_fora  \\\n",
       "0  ([Marcelo Carné, Michel, Vitor Mendes, Rafael ...   \n",
       "\n",
       "                                          banco_casa  \\\n",
       "0  ([João Carlos, João Lucas, Paulão, José Walber...   \n",
       "\n",
       "                                          banco_fora  \n",
       "0  ([William, Cleberson, Paulo Henrique, Elton, M...  "
      ]
     },
     "execution_count": 62,
     "metadata": {},
     "output_type": "execute_result"
    }
   ],
   "source": [
    "categories = ['jogo']\n",
    "dcts = [time_casa, tecnico_casa, time_fora, tecnico_fora, gols_casa, gols_fora, onze_casa, onze_fora, banco_casa, banco_fora]\n",
    "\n",
    "dfs = [\n",
    "    pd.DataFrame([[time_casa.values(), tecnico_casa.values(), time_fora.values(), tecnico_fora.values(), gols_casa.values(), gols_fora.values(), \n",
    "                   onze_casa.values(), onze_fora.values(), banco_casa.values(), banco_fora.values()] for v in dcts.values()])\n",
    "    for dcts, v in zip(dcts, categories)\n",
    "]\n",
    "\n",
    "cols = {'columns': {0: 'time_casa', 1: 'tecnico_casa', 2: 'time_fora', 3: 'tecnico_fora', 4: 'gols_casa', 5: 'gols_fora', 6: '11_casa', 7: '11_fora', 8: 'banco_casa', 9: 'banco_fora'}}\n",
    "pd.concat(dfs).reset_index(drop=True).rename(**cols)\n"
   ]
  },
  {
   "cell_type": "code",
   "execution_count": null,
   "id": "cdebec70-79a9-4d2b-8f37-0a7686bc674c",
   "metadata": {},
   "outputs": [],
   "source": []
  }
 ],
 "metadata": {
  "kernelspec": {
   "display_name": "Python 3",
   "language": "python",
   "name": "python3"
  },
  "language_info": {
   "codemirror_mode": {
    "name": "ipython",
    "version": 3
   },
   "file_extension": ".py",
   "mimetype": "text/x-python",
   "name": "python",
   "nbconvert_exporter": "python",
   "pygments_lexer": "ipython3",
   "version": "3.8.8"
  },
  "toc-autonumbering": false,
  "toc-showcode": false,
  "toc-showmarkdowntxt": false
 },
 "nbformat": 4,
 "nbformat_minor": 5
}
